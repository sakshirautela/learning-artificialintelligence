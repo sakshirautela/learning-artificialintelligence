{
 "cells": [
  {
   "cell_type": "code",
   "execution_count": null,
   "id": "d1e8bd4e",
   "metadata": {},
   "outputs": [],
   "source": [
    "from google import genai\n",
    "from google.genai import types\n",
    "import base64\n",
    "\n",
    "def generate():\n",
    "  client = genai.Client(\n",
    "      vertexai=True,\n",
    "      project=\"qwiklabs-gcp-04-3af30cbcddd1\",\n",
    "      location=\"us-east4\",\n",
    "  )\n",
    "\n",
    "  msg1_image1 = types.Part.from_uri(\n",
    "      file_uri=\"gs://qwiklabs-gcp-04-3af30cbcddd1-labconfig-bucket/cymbal-product-image.png\",\n",
    "      mime_type=\"image/png\",\n",
    "  )\n",
    "  msg1_text1 = types.Part.from_text(text=\"\"\"Cymbal Direct is partnering with an outdoor gear retailer. They're launching a new line of products designed to encourage young people to explore the outdoors. Help them create catchy taglines for this product line.\"\"\")\n",
    "  msg1_image2 = types.Part.from_uri(\n",
    "      file_uri=\"gs://qwiklabs-gcp-04-3af30cbcddd1-labconfig-bucket/cymbal-product-image.png\",\n",
    "      mime_type=\"image/png\",\n",
    "  )\n",
    "\n",
    "  model = \"gemini-2.0-flash-001\"\n",
    "  contents = [\n",
    "    types.Content(\n",
    "      role=\"user\",\n",
    "      parts=[\n",
    "        msg1_image1,\n",
    "        msg1_text1,\n",
    "        msg1_image2\n",
    "      ]\n",
    "    ),\n",
    "  ]\n",
    "  generate_content_config = types.GenerateContentConfig(\n",
    "    temperature = 1,\n",
    "    top_p = 0.95,\n",
    "    max_output_tokens = 8192,\n",
    "    response_modalities = [\"TEXT\"],\n",
    "    safety_settings = [types.SafetySetting(\n",
    "      category=\"HARM_CATEGORY_HATE_SPEECH\",\n",
    "      threshold=\"OFF\"\n",
    "    ),types.SafetySetting(\n",
    "      category=\"HARM_CATEGORY_DANGEROUS_CONTENT\",\n",
    "      threshold=\"OFF\"\n",
    "    ),types.SafetySetting(\n",
    "      category=\"HARM_CATEGORY_SEXUALLY_EXPLICIT\",\n",
    "      threshold=\"OFF\"\n",
    "    ),types.SafetySetting(\n",
    "      category=\"HARM_CATEGORY_HARASSMENT\",\n",
    "      threshold=\"OFF\"\n",
    "    )],\n",
    "  )\n",
    "\n",
    "  for chunk in client.models.generate_content_stream(\n",
    "    model = model,\n",
    "    contents = contents,\n",
    "    config = generate_content_config,\n",
    "    ):\n",
    "    print(chunk.text, end=\"\")\n",
    "\n",
    "generate()"
   ]
  },
  {
   "cell_type": "code",
   "execution_count": null,
   "id": "c594f2c5",
   "metadata": {},
   "outputs": [],
   "source": []
  },
  {
   "cell_type": "code",
   "execution_count": null,
   "id": "5f200bc8",
   "metadata": {},
   "outputs": [],
   "source": [
    "!pip install --upgrade google-genai"
   ]
  }
 ],
 "metadata": {
  "language_info": {
   "name": "python"
  }
 },
 "nbformat": 4,
 "nbformat_minor": 5
}
