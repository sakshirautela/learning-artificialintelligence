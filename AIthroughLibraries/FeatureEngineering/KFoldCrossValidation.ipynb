{
 "cells": [
  {
   "cell_type": "code",
   "execution_count": null,
   "metadata": {},
   "outputs": [],
   "source": [
    "import numpy as np \n",
    "import pandas as pd \n",
    "import matplotlib.pyplot as plt\n",
    "from sklearn.metrics import mean_squared_error"
   ]
  },
  {
   "cell_type": "markdown",
   "metadata": {},
   "source": [
    "## Importing Dataset from sklearn"
   ]
  },
  {
   "cell_type": "code",
   "execution_count": null,
   "metadata": {},
   "outputs": [
    {
     "data": {
      "text/plain": [
       "['MedInc',\n",
       " 'HouseAge',\n",
       " 'AveRooms',\n",
       " 'AveBedrms',\n",
       " 'Population',\n",
       " 'AveOccup',\n",
       " 'Latitude',\n",
       " 'Longitude']"
      ]
     },
     "execution_count": 2,
     "metadata": {},
     "output_type": "execute_result"
    }
   ],
   "source": [
    "from sklearn.datasets import fetch_california_housing\n",
    "data=fetch_california_housing()\n",
    "data.feature_names"
   ]
  },
  {
   "cell_type": "code",
   "execution_count": null,
   "metadata": {},
   "outputs": [
    {
     "data": {
      "text/plain": [
       "array([[   8.3252    ,   41.        ,    6.98412698, ...,    2.55555556,\n",
       "          37.88      , -122.23      ],\n",
       "       [   8.3014    ,   21.        ,    6.23813708, ...,    2.10984183,\n",
       "          37.86      , -122.22      ],\n",
       "       [   7.2574    ,   52.        ,    8.28813559, ...,    2.80225989,\n",
       "          37.85      , -122.24      ],\n",
       "       ...,\n",
       "       [   1.7       ,   17.        ,    5.20554273, ...,    2.3256351 ,\n",
       "          39.43      , -121.22      ],\n",
       "       [   1.8672    ,   18.        ,    5.32951289, ...,    2.12320917,\n",
       "          39.43      , -121.32      ],\n",
       "       [   2.3886    ,   16.        ,    5.25471698, ...,    2.61698113,\n",
       "          39.37      , -121.24      ]])"
      ]
     },
     "execution_count": 3,
     "metadata": {},
     "output_type": "execute_result"
    }
   ],
   "source": [
    "x=data.data\n",
    "x"
   ]
  },
  {
   "cell_type": "code",
   "execution_count": null,
   "metadata": {},
   "outputs": [
    {
     "data": {
      "text/plain": [
       "array([4.526, 3.585, 3.521, ..., 0.923, 0.847, 0.894])"
      ]
     },
     "execution_count": 4,
     "metadata": {},
     "output_type": "execute_result"
    }
   ],
   "source": [
    "y=data.target\n",
    "y"
   ]
  },
  {
   "cell_type": "code",
   "execution_count": null,
   "metadata": {},
   "outputs": [],
   "source": [
    "features=data.feature_names"
   ]
  },
  {
   "cell_type": "markdown",
   "metadata": {},
   "source": [
    "## Scalling data"
   ]
  },
  {
   "cell_type": "code",
   "execution_count": null,
   "metadata": {},
   "outputs": [
    {
     "name": "stdout",
     "output_type": "stream",
     "text": [
      "(16512, 8) (16512,)\n",
      "(4128, 8) (4128,)\n"
     ]
    }
   ],
   "source": [
    "from sklearn.model_selection import train_test_split\n",
    "x_train,x_test,y_train,y_test=train_test_split(x,y,test_size=0.2,random_state=42)\n",
    "print(x_train.shape,y_train.shape)\n",
    "print(x_test.shape,y_test.shape)"
   ]
  },
  {
   "cell_type": "markdown",
   "metadata": {},
   "source": [
    "## Random FOrest Classification"
   ]
  },
  {
   "cell_type": "code",
   "execution_count": null,
   "metadata": {},
   "outputs": [],
   "source": [
    "from sklearn.ensemble import RandomForestRegressor\n",
    "rf=RandomForestRegressor(100)"
   ]
  },
  {
   "cell_type": "code",
   "execution_count": null,
   "metadata": {},
   "outputs": [
    {
     "data": {
      "text/plain": [
       "(4128,)"
      ]
     },
     "execution_count": 8,
     "metadata": {},
     "output_type": "execute_result"
    }
   ],
   "source": [
    "rf=rf.fit(x_train,y_train)\n",
    "predict=rf.predict(x_test)\n",
    "predict.shape"
   ]
  },
  {
   "cell_type": "markdown",
   "metadata": {},
   "source": [
    "## KFold Cross Validation"
   ]
  },
  {
   "cell_type": "code",
   "execution_count": null,
   "metadata": {},
   "outputs": [
    {
     "name": "stdout",
     "output_type": "stream",
     "text": [
      "Train index :  [ 4128  4129  4130 ... 20637 20638 20639] \n",
      "\n",
      "Test index :  [   0    1    2 ... 4125 4126 4127] \n",
      "\n",
      "==========\n",
      "\n",
      "Train index :  [    0     1     2 ... 20637 20638 20639] \n",
      "\n",
      "Test index :  [4128 4129 4130 ... 8253 8254 8255] \n",
      "\n",
      "==========\n",
      "\n",
      "Train index :  [    0     1     2 ... 20637 20638 20639] \n",
      "\n",
      "Test index :  [ 8256  8257  8258 ... 12381 12382 12383] \n",
      "\n",
      "==========\n",
      "\n",
      "Train index :  [    0     1     2 ... 20637 20638 20639] \n",
      "\n",
      "Test index :  [12384 12385 12386 ... 16509 16510 16511] \n",
      "\n",
      "==========\n",
      "\n",
      "Train index :  [    0     1     2 ... 16509 16510 16511] \n",
      "\n",
      "Test index :  [16512 16513 16514 ... 20637 20638 20639] \n",
      "\n",
      "==========\n",
      "\n"
     ]
    }
   ],
   "source": [
    "from sklearn.model_selection import KFold\n",
    "kfold=KFold(n_splits=5,shuffle=False)\n",
    "for train_index,test_index in kfold.split(x):\n",
    "    print(\"Train index : \", train_index,\"\\n\")\n",
    "    print(\"Test index : \", test_index,\"\\n\")\n",
    "    print(\"==========\\n\")"
   ]
  },
  {
   "cell_type": "code",
   "execution_count": null,
   "metadata": {},
   "outputs": [
    {
     "name": "stdout",
     "output_type": "stream",
     "text": [
      "result for   100  estimators\n",
      "[0.5278819911078015, 0.34841869138086545, 0.37486902479480766, 0.4436957092886709, 0.46975923055486096]\n",
      "Average error is :  0.4329249294254013\n",
      "result for   200  estimators\n",
      "[0.5091284120411862, 0.34568151674283143, 0.3695367660744424, 0.44356246330096394, 0.46256944357582946]\n",
      "Average error is :  0.42609572034705073\n"
     ]
    }
   ],
   "source": [
    "n_est=[100,200,500]\n",
    "for n in n_est:\n",
    "    error=[]\n",
    "    for t_index,test__ined in kfold.split(x):\n",
    "        x_train,x_test=x[t_index],x[test__ined]\n",
    "        y_train,y_test=y[t_index],y[test__ined]\n",
    "        rf1=RandomForestRegressor(n)\n",
    "        rf1=rf1.fit(x_train,y_train )\n",
    "        prediction=rf1.predict(x_test)\n",
    "        error.append(mean_squared_error(y_test,prediction))\n",
    "    print(\"result for  \" , n, \" estimators\")\n",
    "    print(error)\n",
    "    print(\"Average error is : \",sum(error)/len(error))      \n",
    "    "
   ]
  },
  {
   "cell_type": "code",
   "execution_count": null,
   "metadata": {},
   "outputs": [
    {
     "data": {
      "text/plain": [
       "[0.5091284120411862,\n",
       " 0.34568151674283143,\n",
       " 0.3695367660744424,\n",
       " 0.44356246330096394,\n",
       " 0.46256944357582946]"
      ]
     },
     "execution_count": 16,
     "metadata": {},
     "output_type": "execute_result"
    }
   ],
   "source": [
    "error"
   ]
  }
 ],
 "metadata": {
  "kernelspec": {
   "display_name": "Python 3",
   "language": "python",
   "name": "python3"
  },
  "language_info": {
   "codemirror_mode": {
    "name": "ipython",
    "version": 3
   },
   "file_extension": ".py",
   "mimetype": "text/x-python",
   "name": "python",
   "nbconvert_exporter": "python",
   "pygments_lexer": "ipython3",
   "version": "3.11.4"
  }
 },
 "nbformat": 4,
 "nbformat_minor": 2
}
